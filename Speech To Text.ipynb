{
 "cells": [
  {
   "cell_type": "code",
   "execution_count": 1,
   "metadata": {},
   "outputs": [],
   "source": [
    "import speech_recognition as sr\n",
    "import webbrowser"
   ]
  },
  {
   "cell_type": "code",
   "execution_count": 2,
   "metadata": {},
   "outputs": [],
   "source": [
    "r = sr.Recognizer()"
   ]
  },
  {
   "cell_type": "code",
   "execution_count": 7,
   "metadata": {},
   "outputs": [
    {
     "name": "stdout",
     "output_type": "stream",
     "text": [
      "Try saying 'Feels': \n",
      "Opening YouTube and playing: Haddaway What is Love?\n"
     ]
    }
   ],
   "source": [
    "with sr.Microphone() as source:\n",
    "    print(\"Try saying 'Feels': \")\n",
    "    audio = r.listen(source)\n",
    "    \n",
    "    try:\n",
    "        \n",
    "        text = r.recognize_google(audio)\n",
    "        text_lower = text.lower()\n",
    "        \n",
    "        if text_lower == 'san francisco':\n",
    "            print(\"Opening YouTube and playing: if you're going to San Francisco\")\n",
    "            webbrowser.open(\"https://www.youtube.com/watch?v=eHQzHb9DVmQ\")\n",
    "            \n",
    "        elif text_lower == 'timber pitbull lyrics' or text_lower == 'timber lyrics' or text_lower == 'timber':\n",
    "            print(\"Opening YouTube and playing: Timber by Pitbull\")\n",
    "            webbrowser.open(\"https://www.youtube.com/watch?v=rhz_m-tgi2Y\")\n",
    "            \n",
    "        elif text_lower == 'feels':\n",
    "            print(\"Opening YouTube and playing: Feels by Calvin Harris\")\n",
    "            webbrowser.open(\"https://www.youtube.com/watch?v=ozv4q2ov3Mk\")\n",
    "            \n",
    "        elif text_lower == 'what is love':\n",
    "            print(\"Opening YouTube and playing: Haddaway What is Love?\")\n",
    "            webbrowser.open(\"https://www.youtube.com/watch?v=HEXWRTEbj1I\")\n",
    "            \n",
    "        else:\n",
    "            print(\"No song detected...!\")\n",
    "            \n",
    "    except:\n",
    "        print(\"Sorry, couldn't recognize your voice.\")"
   ]
  },
  {
   "cell_type": "code",
   "execution_count": null,
   "metadata": {},
   "outputs": [],
   "source": []
  }
 ],
 "metadata": {
  "kernelspec": {
   "display_name": "Python 3",
   "language": "python",
   "name": "python3"
  },
  "language_info": {
   "codemirror_mode": {
    "name": "ipython",
    "version": 3
   },
   "file_extension": ".py",
   "mimetype": "text/x-python",
   "name": "python",
   "nbconvert_exporter": "python",
   "pygments_lexer": "ipython3",
   "version": "3.6.5"
  }
 },
 "nbformat": 4,
 "nbformat_minor": 2
}
