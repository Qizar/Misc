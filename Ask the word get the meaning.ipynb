{
 "cells": [
  {
   "cell_type": "code",
   "execution_count": 1,
   "metadata": {},
   "outputs": [],
   "source": [
    "from nltk.corpus import wordnet\n",
    "\n",
    "import speech_recognition as sr\n",
    "\n",
    "import gtts\n",
    "\n",
    "import vlc"
   ]
  },
  {
   "cell_type": "code",
   "execution_count": 2,
   "metadata": {},
   "outputs": [],
   "source": [
    "r = sr.Recognizer()"
   ]
  },
  {
   "cell_type": "code",
   "execution_count": 3,
   "metadata": {},
   "outputs": [
    {
     "name": "stdout",
     "output_type": "stream",
     "text": [
      "Speak the word\n"
     ]
    }
   ],
   "source": [
    "with sr.Microphone() as source:\n",
    "    print(\"Speak the word\")\n",
    "    audio = r.listen(source)\n",
    "    try:\n",
    "        word = r.recognize_google(audio)\n",
    "        syns = wordnet.synsets(word)\n",
    "        meaning = syns[0].definition()\n",
    "        meaning = f\"The meaning of the word {word} is \" + meaning\n",
    "        speech = gtts.gTTS(meaning)\n",
    "        speech.save('meaning.mp3')\n",
    "        p = vlc.MediaPlayer('meaning.mp3')\n",
    "        p.play()\n",
    "    except:\n",
    "        text = \"Word not found\"\n",
    "        speech = gtts.gTTS(text)\n",
    "        speech.save('meaning.mp3')\n",
    "        p = vlc.MediaPlayer('meaning.mp3')\n",
    "        p.play()"
   ]
  },
  {
   "cell_type": "code",
   "execution_count": null,
   "metadata": {},
   "outputs": [],
   "source": []
  }
 ],
 "metadata": {
  "kernelspec": {
   "display_name": "Python 3",
   "language": "python",
   "name": "python3"
  },
  "language_info": {
   "codemirror_mode": {
    "name": "ipython",
    "version": 3
   },
   "file_extension": ".py",
   "mimetype": "text/x-python",
   "name": "python",
   "nbconvert_exporter": "python",
   "pygments_lexer": "ipython3",
   "version": "3.6.5"
  }
 },
 "nbformat": 4,
 "nbformat_minor": 2
}
